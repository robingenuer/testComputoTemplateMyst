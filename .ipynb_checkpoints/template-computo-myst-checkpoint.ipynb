{
 "cells": [
  {
   "cell_type": "markdown",
   "id": "965084db",
   "metadata": {},
   "source": [
    "# Template for contribution to computo using myst\n",
    "\n",
    "## Abstract\n",
    "\n",
    "Lorem ipsum dolor sit amet, consectetur adipiscing elit. Curabitur posuere\n",
    "vestibulum facilisis. Aenean pretium orci augue, quis lobortis libero accumsan\n",
    "eu. Nam mollis lorem sit amet pellentesque ullamcorper. Curabitur lobortis\n",
    "libero eget malesuada vestibulum. Nam nec nibh massa. Pellentesque porttitor\n",
    "cursus tellus. Mauris urna erat, rhoncus sed faucibus sit amet, venenatis eu\n",
    "ipsum. \n",
    "\n",
    "## Introduction\n",
    "\n",
    "### About this document\n",
    "\n",
    "This document provides a Myst template for contributions to the **Computo**\n",
    "Journal {cite}`computo`. We show how `Python` {cite}`perez2011python`, `R`, or `Julia` code can be included.\n",
    "Note that you can also add equations easily:\n",
    "\n",
    "$$\n",
    "\\sum x + y = Z\n",
    "$$\n",
    "\n",
    "You can also add equations in such a way to be able to reference them later:\n",
    "\n",
    "```{math}\n",
    ":label: math\n",
    "w_{t+1} = (1 + r_{t+1}) s(w_t) + y_{t+1}\n",
    "```\n",
    "\n",
    "See equation {eq}`math` for details.\n",
    "\n",
    "## Methods\n",
    "\n",
    "\n",
    "(subsec:this-is-a-subheading)=\n",
    "### This is a subheading\n",
    "\n",
    "Lorem ipsum dolor sit amet, consectetur adipiscing elit. Curabitur eget ipsum\n",
    "est. Mauris purus urna, aliquet non interdum quis, tincidunt in tortor.\n",
    "Pellentesque habitant morbi tristique senectus et netus et malesuada fames ac\n",
    "turpis egestas. Vestibulum efficitur eu mi ac consequat. Sed id velit porta\n",
    "libero facilisis auctor malesuada ut erat. Sed at orci sem. Nunc eget nisi\n",
    "lobortis, ultrices justo vel, porttitor dolor. Proin ullamcorper dui purus, eu\n",
    "maximus lorem pharetra non. Etiam ante purus, tempus eget rhoncus eu, rutrum\n",
    "id ante. Nulla suscipit, risus vel dapibus finibus, metus diam euismod felis,\n",
    "sit amet consequat quam lectus quis lacus. Sed tristique, urna sit amet\n",
    "viverra facilisis, est augue auctor lorem, sed varius lectus nibh eget urna.\n",
    "Aenean a luctus ligula, vitae elementum metus. Etiam varius, leo in iaculis\n",
    "rutrum, mauris ex fringilla enim, vitae iaculis justo massa id purus."
   ]
  },
  {
   "cell_type": "code",
   "execution_count": 1,
   "id": "bf259007",
   "metadata": {
    "tags": [
     "show-output",
     "show-input"
    ]
   },
   "outputs": [
    {
     "data": {
      "text/plain": [
       "[<matplotlib.lines.Line2D at 0x7f02e4c33580>]"
      ]
     },
     "execution_count": 1,
     "metadata": {},
     "output_type": "execute_result"
    },
    {
     "data": {
      "image/png": "[encoded data removed]",
      "text/plain": [
       "<Figure size 432x288 with 1 Axes>"
      ]
     },
     "metadata": {
      "needs_background": "light"
     },
     "output_type": "display_data"
    }
   ],
   "source": [
    "import matplotlib.pyplot as plt\n",
    "import numpy as np\n",
    "\n",
    "fig, ax = plt.subplots()\n",
    "ax.plot(np.arange(15))"
   ]
  },
  {
   "cell_type": "markdown",
   "id": "8ff809ac",
   "metadata": {},
   "source": [
    "FIXME: Can we reference figures?\n",
    "\n",
    "(subsec:subheading)=\n",
    "### This is another subheading\n",
    "\n",
    "As seen in [section](subsec:this-is-a-subheading), lorem ipsum dolor sit amet,\n",
    "consectetur adipiscing elit. Cras nec ornare urna. Nullam consectetur\n",
    "vestibulum lacinia. Aenean sed augue elit. Aenean venenatis orci ut felis\n",
    "condimentum, sit amet feugiat eros tincidunt. Vestibulum ante ipsum primis in\n",
    "faucibus orci luctus et ultrices posuere cubilia curae; Integer varius metus\n",
    "nunc, at molestie metus eleifend et. Maecenas ullamcorper metus at nisl\n",
    "molestie, ac commodo arcu mollis. Donec felis odio, fermentum lacinia\n",
    "vestibulum non, elementum eu metus. Donec suscipit aliquam malesuada. Praesent\n",
    "justo turpis, dignissim ac nulla non, malesuada rutrum nisi.\n",
    "\n",
    "```{table} My table title\n",
    ":name: my-table-ref\n",
    "\n",
    "| Tables   |      Are      |  Cool |\n",
    "|----------|:-------------:|------:|\n",
    "| col 1 is |  left-aligned | $1600 |\n",
    "| col 2 is |    centered   |   $12 |\n",
    "| col 3 is | right-aligned |    $1 |\n",
    "```\n",
    "\n",
    "Now we can reference the table in the text (See {ref}`my-table-ref`).\n",
    "\n",
    "\n",
    "## Discussion\n",
    "\n",
    "Lorem ipsum dolor sit amet, consectetur adipiscing elit. Praesent aliquam\n",
    "porttitor rutrum. Donec in sollicitudin risus, ultrices ultricies nisi.\n",
    "Vestibulum vel turpis eros. Suspendisse pellentesque nunc augue, eget laoreet\n",
    "dui dictum ut. Mauris pretium lectus ut elit pulvinar, nec accumsan purus\n",
    "hendrerit. Phasellus hendrerit orci a vestibulum euismod. Nunc vel massa\n",
    "facilisis, cursus justo nec, suscipit est. \n",
    "\n",
    "- This is a list\n",
    "- With more elements\n",
    "- It isn't numbered.\n",
    "\n",
    "But we can also do a numbered list\n",
    "\n",
    "1. This is my first item\n",
    "2. This is my second item\n",
    "3. This is my third item\n",
    "\n",
    "## Conclusion\n",
    "\n",
    "Lorem ipsum dolor sit amet, consectetur adipiscing elit. Donec molestie mollis\n",
    "urna, vitae convallis turpis placerat vel. Orci varius natoque penatibus et\n",
    "magnis dis parturient montes, nascetur ridiculus mus. Vestibulum elit nulla,\n",
    "laoreet a sagittis non, pharetra ac velit. Aliquam volutpat nisl augue, eget\n",
    "maximus erat cursus eget. Maecenas sed nisi bibendum, sagittis tellus et,\n",
    "lacinia augue. In lobortis, libero at auctor aliquam, mi leo egestas orci, a\n",
    "pulvinar mauris magna in nisi. Morbi cursus dictum dignissim. Fusce at ex sit\n",
    "amet felis vehicula gravida non in sem. Morbi ut condimentum diam. Aliquam\n",
    "erat volutpat. Fusce id pharetra ante, tincidunt dapibus eros. Curabitur\n",
    "mattis magna non felis aliquet sagittis. \n",
    "\n",
    "```{bibliography}\n",
    ":style: unsrt\n",
    "```"
   ]
  }
 ],
 "metadata": {
  "author": "The Computo team",
  "jupytext": {
   "text_representation": {
    "extension": ".md",
    "format_name": "myst"
   }
  },
  "kernelspec": {
   "display_name": "Python 3",
   "language": "python",
   "name": "python3"
  },
  "language_info": {
   "codemirror_mode": {
    "name": "ipython",
    "version": 3
   },
   "file_extension": ".py",
   "mimetype": "text/x-python",
   "name": "python",
   "nbconvert_exporter": "python",
   "pygments_lexer": "ipython3",
   "version": "3.9.4"
  },
  "source_map": [
   13,
   66,
   75
  ],
  "subtitle": "Example based on the myst system",
  "title": "Template for contribution to Computo"
 },
 "nbformat": 4,
 "nbformat_minor": 5
}
